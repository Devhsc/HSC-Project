{
  "nbformat": 4,
  "nbformat_minor": 0,
  "metadata": {
    "colab": {
      "provenance": [],
      "include_colab_link": true
    },
    "kernelspec": {
      "name": "python3",
      "display_name": "Python 3"
    },
    "language_info": {
      "name": "python"
    }
  },
  "cells": [
    {
      "cell_type": "markdown",
      "metadata": {
        "id": "view-in-github",
        "colab_type": "text"
      },
      "source": [
        "<a href=\"https://colab.research.google.com/github/Devhsc/HSC-Project/blob/main/DATA3406_A2_Product_Notebook.ipynb\" target=\"_parent\"><img src=\"https://colab.research.google.com/assets/colab-badge.svg\" alt=\"Open In Colab\"/></a>"
      ]
    },
    {
      "cell_type": "markdown",
      "source": [
        "Test"
      ],
      "metadata": {
        "id": "cRSJRRPC7yAm"
      }
    },
    {
      "cell_type": "markdown",
      "source": [
        "Importing packages"
      ],
      "metadata": {
        "id": "8CSrk_gy8VPr"
      }
    },
    {
      "cell_type": "code",
      "execution_count": null,
      "metadata": {
        "id": "jrgvGw9j7XOF"
      },
      "outputs": [],
      "source": [
        "import numpy as np\n",
        "import pandas as pd\n",
        "import matplotlib.pyplot as plt"
      ]
    },
    {
      "cell_type": "markdown",
      "source": [
        "Load Data"
      ],
      "metadata": {
        "id": "uzcbG9Vx8gDO"
      }
    },
    {
      "cell_type": "code",
      "source": [
        "# Load the data\n",
        "daily_steps_df = pd.read_csv('../Data/dailySteps_merged.csv')\n",
        "hourly_steps_df = pd.read_csv('../Data/hourlySteps_merged.csv')\n",
        "minute_steps_df = pd.read_csv('../Data/minuteStepsWide_merged.csv')"
      ],
      "metadata": {
        "id": "CiQshpAU8jvA"
      },
      "execution_count": null,
      "outputs": []
    },
    {
      "cell_type": "markdown",
      "source": [
        "Cleaning data for minute file"
      ],
      "metadata": {
        "id": "9yQHNBL987F1"
      }
    },
    {
      "cell_type": "code",
      "source": [
        "# Select the columns that represent steps per minute from step00 to step59\n",
        "step_columns = [f\"Steps{i:02d}\" for i in range(60)]\n",
        "\n",
        "# Flatten the DataFrame to a single series to find the average of each step\n",
        "all_steps = minute_steps_df[step_columns].values.flatten()\n",
        "non_zero_steps = all_steps[all_steps > 0]\n",
        "\n",
        "# Calculate the first quartile (Q1) and third quartile (Q3)\n",
        "Q1 = pd.Series(non_zero_steps).quantile(0.25)\n",
        "Q3 = pd.Series(non_zero_steps).quantile(0.75)\n",
        "\n",
        "# Compute the Interquartile Range (IQR)\n",
        "IQR = Q3 - Q1\n",
        "\n",
        "# Define the lower and upper bounds\n",
        "lower_bound = Q1 - 1.5 * IQR\n",
        "upper_bound = Q3 + 1.5 * IQR\n",
        "\n",
        "# Filter out the outliers\n",
        "filtered_steps = non_zero_steps[(non_zero_steps >= lower_bound) & (non_zero_steps <= upper_bound)]\n",
        "\n",
        "# selected individual id\n",
        "selected_id = 2022484408\n",
        "\n",
        "# Filter the DataFrame to get the data for the selected individual\n",
        "filtered_minute_steps_df = minute_steps_df[minute_steps_df['Id'] == selected_id]\n",
        "\n",
        "filtered_minute_steps_df['ActivityHour'] = pd.to_datetime(filtered_minute_steps_df['ActivityHour'], format='%m/%d/%Y %I:%M:%S %p', errors='coerce')\n",
        "filtered_minute_steps_df.loc[:, 'ActivityHour'] = pd.to_datetime(filtered_minute_steps_df['ActivityHour'], format='%m/%d/%Y %I:%M:%S %p', errors='coerce')\n",
        "\n",
        "# Create separate dataframes for 7-9 AM and 5-7 PM\n",
        "am_commuting_hours_df = filtered_minute_steps_df.loc[\n",
        "    (filtered_minute_steps_df['ActivityHour'].dt.hour >= 7) & (filtered_minute_steps_df['ActivityHour'].dt.hour <= 9)\n",
        "    ].copy()\n",
        "\n",
        "pm_commuting_hours_df = filtered_minute_steps_df.loc[\n",
        "    (filtered_minute_steps_df['ActivityHour'].dt.hour >= 17) & (filtered_minute_steps_df['ActivityHour'].dt.hour <= 19)\n",
        "    ].copy()"
      ],
      "metadata": {
        "id": "QUbj4Ist8y1Y"
      },
      "execution_count": null,
      "outputs": []
    },
    {
      "cell_type": "code",
      "source": [],
      "metadata": {
        "id": "BxlZcIyz9BZf"
      },
      "execution_count": null,
      "outputs": []
    }
  ]
}